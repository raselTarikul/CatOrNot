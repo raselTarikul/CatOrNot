{
 "cells": [
  {
   "cell_type": "code",
   "execution_count": 12,
   "metadata": {},
   "outputs": [],
   "source": [
    "import numpy as np\n",
    "from keras import layers\n",
    "from keras.layers import Input, Dense, Activation, ZeroPadding2D, BatchNormalization, Flatten, Conv2D\n",
    "from keras.layers import AveragePooling2D, MaxPooling2D, Dropout, GlobalMaxPooling2D, GlobalAveragePooling2D\n",
    "from keras.models import Model\n",
    "from keras.preprocessing import image\n",
    "from keras.utils import layer_utils\n",
    "from keras.utils.data_utils import get_file\n",
    "from keras.applications.imagenet_utils import preprocess_input\n",
    "import pydot\n",
    "from IPython.display import SVG\n",
    "from keras.utils.vis_utils import model_to_dot\n",
    "from keras.utils import plot_model\n",
    "import h5py"
   ]
  },
  {
   "cell_type": "code",
   "execution_count": 13,
   "metadata": {},
   "outputs": [],
   "source": [
    "def load_dataset():\n",
    "    train_dataset = h5py.File('datasets/train_catvnoncat.h5', \"r\")\n",
    "    train_set_x_orig = np.array(train_dataset[\"train_set_x\"][:]) # your train set features\n",
    "    train_set_y_orig = np.array(train_dataset[\"train_set_y\"][:]) # your train set labels\n",
    "\n",
    "    test_dataset = h5py.File('datasets/test_catvnoncat.h5', \"r\")\n",
    "    test_set_x_orig = np.array(test_dataset[\"test_set_x\"][:]) # your test set features\n",
    "    test_set_y_orig = np.array(test_dataset[\"test_set_y\"][:]) # your test set labels\n",
    "\n",
    "    classes = np.array(test_dataset[\"list_classes\"][:]) # the list of classes\n",
    "    \n",
    "    train_set_y_orig = train_set_y_orig.reshape((1, train_set_y_orig.shape[0]))\n",
    "    test_set_y_orig = test_set_y_orig.reshape((1, test_set_y_orig.shape[0]))\n",
    "    \n",
    "    return train_set_x_orig, train_set_y_orig, test_set_x_orig, test_set_y_orig, classes"
   ]
  },
  {
   "cell_type": "code",
   "execution_count": 15,
   "metadata": {},
   "outputs": [
    {
     "name": "stdout",
     "output_type": "stream",
     "text": [
      "number of training examples = 209\n",
      "number of test examples = 50\n",
      "X_train shape: (209, 64, 64, 3)\n",
      "Y_train shape: (209, 1)\n",
      "X_test shape: (50, 64, 64, 3)\n",
      "Y_test shape: (50, 1)\n"
     ]
    }
   ],
   "source": [
    "X_train_orig, Y_train_orig, X_test_orig, Y_test_orig, classes = load_dataset()\n",
    "\n",
    "# Normalize image vectors\n",
    "X_train = X_train_orig/255.\n",
    "X_test = X_test_orig/255.\n",
    "\n",
    "# Reshape\n",
    "Y_train = Y_train_orig.T\n",
    "Y_test = Y_test_orig.T\n",
    "\n",
    "print (\"number of training examples = \" + str(X_train.shape[0]))\n",
    "print (\"number of test examples = \" + str(X_test.shape[0]))\n",
    "print (\"X_train shape: \" + str(X_train.shape))\n",
    "print (\"Y_train shape: \" + str(Y_train.shape))\n",
    "print (\"X_test shape: \" + str(X_test.shape))\n",
    "print (\"Y_test shape: \" + str(Y_test.shape))"
   ]
  },
  {
   "cell_type": "code",
   "execution_count": 16,
   "metadata": {},
   "outputs": [],
   "source": [
    "\n",
    "def CatModel(input_shape):\n",
    "    \"\"\"\n",
    "    Implementation of the HappyModel.\n",
    "    \n",
    "    Arguments:\n",
    "    input_shape -- shape of the images of the dataset\n",
    "\n",
    "    Returns:\n",
    "    model -- a Model() instance in Keras\n",
    "    \"\"\"\n",
    "    \n",
    "    ### START CODE HERE ###\n",
    "    # Feel free to use the suggested outline in the text above to get started, and run through the whole\n",
    "    # exercise (including the later portions of this notebook) once. The come back also try out other\n",
    "    # network architectures as well. \n",
    "    # Define the input placeholder as a tensor with shape input_shape. Think of this as your input image!\n",
    "    X_input = Input(input_shape)\n",
    "\n",
    "    # Zero-Padding: pads the border of X_input with zeroes\n",
    "    X = ZeroPadding2D((3, 3))(X_input)\n",
    "\n",
    "    # CONV -> BN -> RELU Block applied to X\n",
    "    X = Conv2D(32, (7, 7), strides = (1, 1), name = 'conv0')(X)\n",
    "    X = BatchNormalization(axis = 3, name = 'bn0')(X)\n",
    "    X = Activation('relu')(X)\n",
    "\n",
    "    # MAXPOOL\n",
    "    X = MaxPooling2D((2, 2), name='max_pool')(X)\n",
    "\n",
    "    # FLATTEN X (means convert it to a vector) + FULLYCONNECTED\n",
    "    X = Flatten()(X)\n",
    "    X = Dense(1, activation='sigmoid', name='fc')(X)\n",
    "\n",
    "    # Create model. This creates your Keras model instance, you'll use this instance to train/test the model.\n",
    "    model = Model(inputs = X_input, outputs = X, name='HappyModel')\n",
    "    \n",
    "    ### END CODE HERE ###\n",
    "    \n",
    "    return model"
   ]
  },
  {
   "cell_type": "code",
   "execution_count": 17,
   "metadata": {},
   "outputs": [],
   "source": [
    "catModel = CatModel(X_train.shape[1:])"
   ]
  },
  {
   "cell_type": "code",
   "execution_count": 18,
   "metadata": {},
   "outputs": [],
   "source": [
    "catModel.compile(optimizer = \"adam\", loss = \"binary_crossentropy\", metrics = [\"accuracy\"])"
   ]
  },
  {
   "cell_type": "code",
   "execution_count": 19,
   "metadata": {},
   "outputs": [
    {
     "name": "stdout",
     "output_type": "stream",
     "text": [
      "Epoch 1/25\n",
      "209/209 [==============================] - 2s 10ms/step - loss: 2.9256 - acc: 0.6268\n",
      "Epoch 2/25\n",
      "209/209 [==============================] - 2s 9ms/step - loss: 2.2599 - acc: 0.6507\n",
      "Epoch 3/25\n",
      "209/209 [==============================] - 2s 9ms/step - loss: 1.6087 - acc: 0.6794\n",
      "Epoch 4/25\n",
      "209/209 [==============================] - 2s 9ms/step - loss: 1.4770 - acc: 0.7225\n",
      "Epoch 5/25\n",
      "209/209 [==============================] - 2s 9ms/step - loss: 1.0002 - acc: 0.7464\n",
      "Epoch 6/25\n",
      "209/209 [==============================] - 2s 9ms/step - loss: 0.5064 - acc: 0.8804\n",
      "Epoch 7/25\n",
      "209/209 [==============================] - 2s 9ms/step - loss: 0.2922 - acc: 0.9187\n",
      "Epoch 8/25\n",
      "209/209 [==============================] - 2s 9ms/step - loss: 0.3224 - acc: 0.8995\n",
      "Epoch 9/25\n",
      "209/209 [==============================] - 2s 9ms/step - loss: 0.2941 - acc: 0.8852\n",
      "Epoch 10/25\n",
      "209/209 [==============================] - 2s 9ms/step - loss: 0.3270 - acc: 0.8995\n",
      "Epoch 11/25\n",
      "209/209 [==============================] - 2s 9ms/step - loss: 0.3220 - acc: 0.8995\n",
      "Epoch 12/25\n",
      "209/209 [==============================] - 2s 9ms/step - loss: 0.2072 - acc: 0.9330\n",
      "Epoch 13/25\n",
      "209/209 [==============================] - 2s 9ms/step - loss: 0.1471 - acc: 0.9378\n",
      "Epoch 14/25\n",
      "209/209 [==============================] - 2s 9ms/step - loss: 0.0402 - acc: 0.9856\n",
      "Epoch 15/25\n",
      "209/209 [==============================] - 2s 9ms/step - loss: 0.0399 - acc: 0.9904\n",
      "Epoch 16/25\n",
      "209/209 [==============================] - 2s 11ms/step - loss: 0.4039 - acc: 0.8804\n",
      "Epoch 17/25\n",
      "209/209 [==============================] - 2s 10ms/step - loss: 0.1412 - acc: 0.9378\n",
      "Epoch 18/25\n",
      "209/209 [==============================] - 2s 9ms/step - loss: 0.0971 - acc: 0.9665\n",
      "Epoch 19/25\n",
      "209/209 [==============================] - 2s 9ms/step - loss: 0.0840 - acc: 0.9617\n",
      "Epoch 20/25\n",
      "209/209 [==============================] - 2s 9ms/step - loss: 0.1448 - acc: 0.9569\n",
      "Epoch 21/25\n",
      "209/209 [==============================] - 2s 9ms/step - loss: 0.0777 - acc: 0.9617\n",
      "Epoch 22/25\n",
      "209/209 [==============================] - 2s 9ms/step - loss: 0.0272 - acc: 0.9904\n",
      "Epoch 23/25\n",
      "209/209 [==============================] - 2s 9ms/step - loss: 0.0426 - acc: 0.9809\n",
      "Epoch 24/25\n",
      "209/209 [==============================] - 2s 9ms/step - loss: 0.0378 - acc: 0.9809\n",
      "Epoch 25/25\n",
      "209/209 [==============================] - 2s 9ms/step - loss: 0.0254 - acc: 0.9952\n"
     ]
    },
    {
     "data": {
      "text/plain": [
       "<keras.callbacks.History at 0x7fe97be705f8>"
      ]
     },
     "execution_count": 19,
     "metadata": {},
     "output_type": "execute_result"
    }
   ],
   "source": [
    "catModel.fit(x = X_train, y = Y_train, epochs = 25, batch_size = 8)"
   ]
  },
  {
   "cell_type": "code",
   "execution_count": 20,
   "metadata": {},
   "outputs": [
    {
     "name": "stdout",
     "output_type": "stream",
     "text": [
      "50/50 [==============================] - 0s 4ms/step\n",
      "\n",
      "Loss = 2.488178195953369\n",
      "Test Accuracy = 0.54\n"
     ]
    }
   ],
   "source": [
    "### START CODE HERE ### (1 line)\n",
    "preds = catModel.evaluate(x = X_test, y = Y_test)\n",
    "### END CODE HERE ###\n",
    "print()\n",
    "print (\"Loss = \" + str(preds[0]))\n",
    "print (\"Test Accuracy = \" + str(preds[1]))"
   ]
  },
  {
   "cell_type": "code",
   "execution_count": 21,
   "metadata": {},
   "outputs": [
    {
     "name": "stdout",
     "output_type": "stream",
     "text": [
      "[[1.]]\n"
     ]
    }
   ],
   "source": [
    "img_path = 'images/cat.1.jpg'\n",
    "### END CODE HERE ###\n",
    "img = image.load_img(img_path, target_size=(64, 64))\n",
    "\n",
    "x = image.img_to_array(img)\n",
    "x = np.expand_dims(x, axis=0)\n",
    "x = preprocess_input(x)\n",
    "\n",
    "print(catModel.predict(x))"
   ]
  },
  {
   "cell_type": "code",
   "execution_count": null,
   "metadata": {},
   "outputs": [],
   "source": []
  }
 ],
 "metadata": {
  "kernelspec": {
   "display_name": "Python [conda env:my_env]",
   "language": "python",
   "name": "conda-env-my_env-py"
  },
  "language_info": {
   "codemirror_mode": {
    "name": "ipython",
    "version": 3
   },
   "file_extension": ".py",
   "mimetype": "text/x-python",
   "name": "python",
   "nbconvert_exporter": "python",
   "pygments_lexer": "ipython3",
   "version": "3.6.5"
  }
 },
 "nbformat": 4,
 "nbformat_minor": 2
}
